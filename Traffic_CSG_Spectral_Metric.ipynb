{
 "cells": [
  {
   "cell_type": "code",
   "execution_count": 3,
   "metadata": {},
   "outputs": [],
   "source": [
    "import cv2\n",
    "import pickle\n",
    "import numpy as np\n",
    "import pandas as pd\n",
    "from sklearn.model_selection import train_test_split"
   ]
  },
  {
   "cell_type": "code",
   "execution_count": 4,
   "metadata": {},
   "outputs": [],
   "source": [
    "def read_image(p):\n",
    "    path = '/home/admin1/Documents/EmanEhab/CSG/ROI/' + p\n",
    "    img = cv2.imread(path, 1)\n",
    "    img = cv2.resize(img, (32, 32), interpolation = cv2.INTER_AREA)\n",
    "    img = img.astype('float32') / 255\n",
    "    return img\n",
    "def traffic_dataset(path):\n",
    "    df = pd.read_csv(path, names=['image_path', 'label'])\n",
    "    \n",
    "    X = np.stack(df[\"image_path\"].apply(read_image).to_numpy())\n",
    "    \n",
    "    y= np.array(df['label']).reshape(len(df['label']),1).astype(\"int8\")\n",
    "    X_train, X_test, y_train, y_test = train_test_split( X, y, test_size=0.25, random_state=42)\n",
    "    \n",
    "    \n",
    "    return X_train, X_test, y_train, y_test\n",
    "    #return X, y\n",
    "\n",
    "x_train, x_test, y_train, y_test = traffic_dataset(\"../roi_annotation.txt\")\n",
    "#X, y = traffic_dataset(\"../roi_annotation.txt\")"
   ]
  },
  {
   "cell_type": "code",
   "execution_count": 8,
   "metadata": {},
   "outputs": [
    {
     "data": {
      "text/plain": [
       "(16028, 32, 32, 3)"
      ]
     },
     "execution_count": 8,
     "metadata": {},
     "output_type": "execute_result"
    }
   ],
   "source": [
    "x_train.shape"
   ]
  },
  {
   "cell_type": "code",
   "execution_count": 9,
   "metadata": {},
   "outputs": [],
   "source": [
    "import pickle\n",
    "\n",
    "#dict = {'X': X, 'y': y}\n",
    "dict = {'x_train': x_train, 'x_test': x_test, 'y_train': y_train, \"y_test\":y_test}\n",
    "file = open('Normalized_traffic_dataset_train_test_pickles.txt', 'wb')\n",
    "pickle.dump(dict, file)\n",
    "file.close()"
   ]
  },
  {
   "cell_type": "code",
   "execution_count": 12,
   "metadata": {},
   "outputs": [],
   "source": [
    "file = open('Normalized_traffic_dataset_train_test_pickles.txt', 'rb')\n",
    "dict = pickle.load(file)\n",
    "\n"
   ]
  },
  {
   "cell_type": "code",
   "execution_count": 13,
   "metadata": {},
   "outputs": [
    {
     "data": {
      "text/plain": [
       "array([[[0.8666667 , 0.7411765 , 0.69411767],\n",
       "        [0.87058824, 0.7411765 , 0.69803923],\n",
       "        [0.8627451 , 0.74509805, 0.7058824 ],\n",
       "        ...,\n",
       "        [0.8627451 , 0.75686276, 0.7058824 ],\n",
       "        [0.8627451 , 0.7607843 , 0.7058824 ],\n",
       "        [0.88235295, 0.7607843 , 0.69803923]],\n",
       "\n",
       "       [[0.8666667 , 0.73333335, 0.7058824 ],\n",
       "        [0.8627451 , 0.7411765 , 0.7019608 ],\n",
       "        [0.85490197, 0.7372549 , 0.69411767],\n",
       "        ...,\n",
       "        [0.85882354, 0.7490196 , 0.7176471 ],\n",
       "        [0.8784314 , 0.7529412 , 0.70980394],\n",
       "        [0.88235295, 0.7607843 , 0.7058824 ]],\n",
       "\n",
       "       [[0.8784314 , 0.7294118 , 0.7176471 ],\n",
       "        [0.8666667 , 0.7176471 , 0.6862745 ],\n",
       "        [0.84705883, 0.72156864, 0.6745098 ],\n",
       "        ...,\n",
       "        [0.83137256, 0.73333335, 0.70980394],\n",
       "        [0.87058824, 0.75686276, 0.7176471 ],\n",
       "        [0.87058824, 0.7607843 , 0.69803923]],\n",
       "\n",
       "       ...,\n",
       "\n",
       "       [[0.25882354, 0.3372549 , 0.34901962],\n",
       "        [0.33333334, 0.40392157, 0.41568628],\n",
       "        [0.41960785, 0.45490196, 0.47058824],\n",
       "        ...,\n",
       "        [0.8235294 , 0.8       , 0.7764706 ],\n",
       "        [0.8117647 , 0.7490196 , 0.73333335],\n",
       "        [0.79607844, 0.7019608 , 0.6745098 ]],\n",
       "\n",
       "       [[0.28235295, 0.32941177, 0.34117648],\n",
       "        [0.29411766, 0.36862746, 0.38431373],\n",
       "        [0.33333334, 0.39607844, 0.41568628],\n",
       "        ...,\n",
       "        [0.8156863 , 0.73333335, 0.7490196 ],\n",
       "        [0.79607844, 0.6784314 , 0.69411767],\n",
       "        [0.8392157 , 0.7647059 , 0.7411765 ]],\n",
       "\n",
       "       [[0.28627452, 0.32941177, 0.3372549 ],\n",
       "        [0.23529412, 0.29803923, 0.30980393],\n",
       "        [0.22352941, 0.3019608 , 0.3137255 ],\n",
       "        ...,\n",
       "        [0.75686276, 0.67058825, 0.7058824 ],\n",
       "        [0.84705883, 0.7490196 , 0.78431374],\n",
       "        [0.827451  , 0.7490196 , 0.73333335]]], dtype=float32)"
      ]
     },
     "execution_count": 13,
     "metadata": {},
     "output_type": "execute_result"
    }
   ],
   "source": [
    "dict['x_train'][0]"
   ]
  },
  {
   "cell_type": "code",
   "execution_count": 5,
   "metadata": {},
   "outputs": [],
   "source": [
    "from sklearn.model_selection import train_test_split\n",
    "X_train, X_test, y_train, y_test = train_test_split(dict[\"X\"], dict[\"y\"], test_size=0.25)"
   ]
  },
  {
   "cell_type": "code",
   "execution_count": 6,
   "metadata": {},
   "outputs": [
    {
     "name": "stdout",
     "output_type": "stream",
     "text": [
      "(16028, 520, 520, 3)\n",
      "(16028, 1)\n",
      "(5343, 520, 520, 3)\n",
      "(5343, 1)\n"
     ]
    }
   ],
   "source": [
    "print(X_train.shape)\n",
    "print(y_train.shape)\n",
    "print(X_test.shape)\n",
    "print(y_test.shape)"
   ]
  },
  {
   "cell_type": "code",
   "execution_count": null,
   "metadata": {},
   "outputs": [],
   "source": []
  },
  {
   "cell_type": "code",
   "execution_count": 3,
   "metadata": {},
   "outputs": [],
   "source": [
    "df = pd.read_csv(\"../2ndroi_annotation.txt\", names=['image_path', 'label'])"
   ]
  },
  {
   "cell_type": "code",
   "execution_count": 4,
   "metadata": {},
   "outputs": [
    {
     "data": {
      "text/html": [
       "<div>\n",
       "<style scoped>\n",
       "    .dataframe tbody tr th:only-of-type {\n",
       "        vertical-align: middle;\n",
       "    }\n",
       "\n",
       "    .dataframe tbody tr th {\n",
       "        vertical-align: top;\n",
       "    }\n",
       "\n",
       "    .dataframe thead th {\n",
       "        text-align: right;\n",
       "    }\n",
       "</style>\n",
       "<table border=\"1\" class=\"dataframe\">\n",
       "  <thead>\n",
       "    <tr style=\"text-align: right;\">\n",
       "      <th></th>\n",
       "      <th>image_path</th>\n",
       "      <th>label</th>\n",
       "    </tr>\n",
       "  </thead>\n",
       "  <tbody>\n",
       "    <tr>\n",
       "      <th>0</th>\n",
       "      <td>/home/admin1/Documents/EmanEhab/CSG/ROI/00001_...</td>\n",
       "      <td>7</td>\n",
       "    </tr>\n",
       "    <tr>\n",
       "      <th>1</th>\n",
       "      <td>/home/admin1/Documents/EmanEhab/CSG/ROI/00001_...</td>\n",
       "      <td>0</td>\n",
       "    </tr>\n",
       "    <tr>\n",
       "      <th>2</th>\n",
       "      <td>/home/admin1/Documents/EmanEhab/CSG/ROI/00001_...</td>\n",
       "      <td>0</td>\n",
       "    </tr>\n",
       "    <tr>\n",
       "      <th>3</th>\n",
       "      <td>/home/admin1/Documents/EmanEhab/CSG/ROI/00001_...</td>\n",
       "      <td>0</td>\n",
       "    </tr>\n",
       "    <tr>\n",
       "      <th>4</th>\n",
       "      <td>/home/admin1/Documents/EmanEhab/CSG/ROI/00001_...</td>\n",
       "      <td>0</td>\n",
       "    </tr>\n",
       "  </tbody>\n",
       "</table>\n",
       "</div>"
      ],
      "text/plain": [
       "                                          image_path  label\n",
       "0  /home/admin1/Documents/EmanEhab/CSG/ROI/00001_...      7\n",
       "1  /home/admin1/Documents/EmanEhab/CSG/ROI/00001_...      0\n",
       "2  /home/admin1/Documents/EmanEhab/CSG/ROI/00001_...      0\n",
       "3  /home/admin1/Documents/EmanEhab/CSG/ROI/00001_...      0\n",
       "4  /home/admin1/Documents/EmanEhab/CSG/ROI/00001_...      0"
      ]
     },
     "execution_count": 4,
     "metadata": {},
     "output_type": "execute_result"
    }
   ],
   "source": [
    "df.head()"
   ]
  },
  {
   "cell_type": "code",
   "execution_count": 4,
   "metadata": {},
   "outputs": [
    {
     "data": {
      "text/plain": [
       "(520, 520, 3)"
      ]
     },
     "execution_count": 4,
     "metadata": {},
     "output_type": "execute_result"
    }
   ],
   "source": [
    "imga = cv2.imread(df.loc[5][0], 1)\n",
    "img = imga\n",
    "imga.shape"
   ]
  },
  {
   "cell_type": "code",
   "execution_count": 6,
   "metadata": {},
   "outputs": [],
   "source": [
    "from keras.datasets import cifar10\n",
    "def cifar():\n",
    "    # dataset\n",
    "    (x_train, y_train), (x_test, y_test) = cifar10.load_data()\n",
    "\n",
    "    x_train = x_train.astype('float32') / 255\n",
    "    x_test = x_test.astype('float32') / 255\n",
    "\n",
    "    return x_train, x_test, y_train, y_test\n",
    "x_train, x_test, y_train, y_test = cifar()\n"
   ]
  },
  {
   "cell_type": "code",
   "execution_count": 2,
   "metadata": {},
   "outputs": [],
   "source": [
    "def read_image(path):\n",
    "    img = cv2.imread(path, 1)\n",
    "    return img"
   ]
  },
  {
   "cell_type": "code",
   "execution_count": 4,
   "metadata": {},
   "outputs": [],
   "source": [
    "def traffic_dataset(path):\n",
    "    df = pd.read_csv(path, names=['image_path', 'label'])\n",
    "    \n",
    "    X = np.stack(df[\"image_path\"].apply(read_image).to_numpy())\n",
    "    \n",
    "    y= np.array(df['label']).reshape(len(df['label']),1).astype(\"int8\")\n",
    "    X_train, X_test, y_train, y_test = train_test_split( X, y, test_size=0.25, random_state=42)\n",
    "    \n",
    "    X_train = X_train.astype('float32') / 255\n",
    "    X_test = X_test.astype('float32') / 255\n",
    "    \n",
    "    return X_train, X_test, y_train, y_test\n",
    "    \n",
    "    \n",
    "X_train, X_test, y_train, y_test = traffic_dataset(\"../2ndroi_annotation.txt\")\n",
    "    "
   ]
  },
  {
   "cell_type": "code",
   "execution_count": 7,
   "metadata": {},
   "outputs": [
    {
     "data": {
      "text/plain": [
       "(520, 520, 3)"
      ]
     },
     "execution_count": 7,
     "metadata": {},
     "output_type": "execute_result"
    }
   ],
   "source": [
    "X_train[0].shape"
   ]
  },
  {
   "cell_type": "code",
   "execution_count": 9,
   "metadata": {},
   "outputs": [],
   "source": [
    "df[\"image_path\"] = df[\"image_path\"].apply(read_image)\n",
    "df['label'] = np.array(df['label']).reshape(21371,1).astype(\"int8\")"
   ]
  },
  {
   "cell_type": "code",
   "execution_count": 10,
   "metadata": {},
   "outputs": [],
   "source": [
    "X_train, X_test, y_train, y_test = train_test_split(df['image_path'], df['label'], test_size=0.25, random_state=42)"
   ]
  },
  {
   "cell_type": "code",
   "execution_count": 16,
   "metadata": {},
   "outputs": [
    {
     "data": {
      "text/plain": [
       "(16028,)"
      ]
     },
     "execution_count": 16,
     "metadata": {},
     "output_type": "execute_result"
    }
   ],
   "source": [
    "y_train.shape"
   ]
  },
  {
   "cell_type": "code",
   "execution_count": 45,
   "metadata": {},
   "outputs": [
    {
     "data": {
      "text/plain": [
       "(32, 32, 3)"
      ]
     },
     "execution_count": 45,
     "metadata": {},
     "output_type": "execute_result"
    }
   ],
   "source": [
    "x_train[0].shape"
   ]
  },
  {
   "cell_type": "code",
   "execution_count": 29,
   "metadata": {},
   "outputs": [
    {
     "data": {
      "text/plain": [
       "array(['/home/admin1/Documents/EmanEhab/CSG/ROI/00001_0.bmp',\n",
       "       '/home/admin1/Documents/EmanEhab/CSG/ROI/00001_1.bmp',\n",
       "       '/home/admin1/Documents/EmanEhab/CSG/ROI/00001_2.bmp', ...,\n",
       "       '/home/admin1/Documents/EmanEhab/CSG/ROI/07124_2.bmp',\n",
       "       '/home/admin1/Documents/EmanEhab/CSG/ROI/07124_3.bmp',\n",
       "       '/home/admin1/Documents/EmanEhab/CSG/ROI/07125_0.bmp'],\n",
       "      dtype=object)"
      ]
     },
     "execution_count": 29,
     "metadata": {},
     "output_type": "execute_result"
    }
   ],
   "source": [
    "np.array(df['image_path'])"
   ]
  },
  {
   "cell_type": "code",
   "execution_count": 10,
   "metadata": {},
   "outputs": [],
   "source": [
    "df[\"image_path\"] = df[\"image_path\"].apply(read_image)"
   ]
  },
  {
   "cell_type": "code",
   "execution_count": 11,
   "metadata": {},
   "outputs": [
    {
     "data": {
      "text/plain": [
       "0    [[[198, 201, 201], [198, 201, 201], [198, 201,...\n",
       "1    [[[85, 93, 83], [85, 93, 83], [85, 93, 83], [8...\n",
       "2    [[[178, 183, 183], [178, 183, 183], [178, 183,...\n",
       "3    [[[192, 188, 191], [192, 188, 191], [192, 188,...\n",
       "4    [[[184, 194, 193], [184, 194, 193], [184, 194,...\n",
       "Name: image_path, dtype: object"
      ]
     },
     "execution_count": 11,
     "metadata": {},
     "output_type": "execute_result"
    }
   ],
   "source": [
    "df[\"image_path\"].head()"
   ]
  },
  {
   "cell_type": "code",
   "execution_count": 12,
   "metadata": {},
   "outputs": [],
   "source": [
    "a= df[\"image_path\"].to_numpy()"
   ]
  },
  {
   "cell_type": "code",
   "execution_count": 133,
   "metadata": {},
   "outputs": [
    {
     "ename": "IndexError",
     "evalue": "tuple index out of range",
     "output_type": "error",
     "traceback": [
      "\u001b[0;31m---------------------------------------------------------------------------\u001b[0m",
      "\u001b[0;31mIndexError\u001b[0m                                Traceback (most recent call last)",
      "\u001b[0;32m<ipython-input-133-9b509b38e440>\u001b[0m in \u001b[0;36m<module>\u001b[0;34m\u001b[0m\n\u001b[0;32m----> 1\u001b[0;31m \u001b[0ma\u001b[0m\u001b[0;34m.\u001b[0m\u001b[0mreshape\u001b[0m\u001b[0;34m(\u001b[0m\u001b[0;34m(\u001b[0m\u001b[0ma\u001b[0m\u001b[0;34m.\u001b[0m\u001b[0mshape\u001b[0m\u001b[0;34m[\u001b[0m\u001b[0;36m1\u001b[0m\u001b[0;34m]\u001b[0m\u001b[0;34m,\u001b[0m\u001b[0;36m1\u001b[0m\u001b[0;34m)\u001b[0m\u001b[0;34m)\u001b[0m\u001b[0;34m.\u001b[0m\u001b[0mshape\u001b[0m\u001b[0;34m\u001b[0m\u001b[0;34m\u001b[0m\u001b[0m\n\u001b[0m",
      "\u001b[0;31mIndexError\u001b[0m: tuple index out of range"
     ]
    }
   ],
   "source": [
    "a.reshape((a.shape[0],1)).shape"
   ]
  },
  {
   "cell_type": "code",
   "execution_count": null,
   "metadata": {},
   "outputs": [],
   "source": []
  },
  {
   "cell_type": "code",
   "execution_count": 19,
   "metadata": {},
   "outputs": [
    {
     "data": {
      "text/plain": [
       "array([[[178, 183, 183],\n",
       "        [178, 183, 183],\n",
       "        [178, 183, 183],\n",
       "        ...,\n",
       "        [183, 175, 170],\n",
       "        [183, 175, 170],\n",
       "        [183, 175, 170]],\n",
       "\n",
       "       [[178, 183, 183],\n",
       "        [178, 183, 183],\n",
       "        [178, 183, 183],\n",
       "        ...,\n",
       "        [183, 175, 170],\n",
       "        [183, 175, 170],\n",
       "        [183, 175, 170]],\n",
       "\n",
       "       [[178, 183, 183],\n",
       "        [178, 183, 183],\n",
       "        [178, 183, 183],\n",
       "        ...,\n",
       "        [183, 175, 170],\n",
       "        [183, 175, 170],\n",
       "        [183, 175, 170]],\n",
       "\n",
       "       ...,\n",
       "\n",
       "       [[112, 111, 105],\n",
       "        [112, 111, 105],\n",
       "        [112, 111, 105],\n",
       "        ...,\n",
       "        [ 35,  41,  36],\n",
       "        [ 35,  41,  36],\n",
       "        [ 35,  41,  36]],\n",
       "\n",
       "       [[112, 111, 105],\n",
       "        [112, 111, 105],\n",
       "        [112, 111, 105],\n",
       "        ...,\n",
       "        [ 35,  41,  36],\n",
       "        [ 35,  41,  36],\n",
       "        [ 35,  41,  36]],\n",
       "\n",
       "       [[112, 111, 105],\n",
       "        [112, 111, 105],\n",
       "        [112, 111, 105],\n",
       "        ...,\n",
       "        [ 35,  41,  36],\n",
       "        [ 35,  41,  36],\n",
       "        [ 35,  41,  36]]], dtype=uint8)"
      ]
     },
     "execution_count": 19,
     "metadata": {},
     "output_type": "execute_result"
    }
   ],
   "source": []
  },
  {
   "cell_type": "code",
   "execution_count": null,
   "metadata": {},
   "outputs": [],
   "source": []
  }
 ],
 "metadata": {
  "kernelspec": {
   "display_name": "Python 3",
   "language": "python",
   "name": "python3"
  },
  "language_info": {
   "codemirror_mode": {
    "name": "ipython",
    "version": 3
   },
   "file_extension": ".py",
   "mimetype": "text/x-python",
   "name": "python",
   "nbconvert_exporter": "python",
   "pygments_lexer": "ipython3",
   "version": "3.6.13"
  }
 },
 "nbformat": 4,
 "nbformat_minor": 4
}
