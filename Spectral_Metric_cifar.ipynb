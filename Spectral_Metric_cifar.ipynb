{
 "cells": [
  {
   "cell_type": "markdown",
   "metadata": {
    "colab_type": "text",
    "id": "iGGnYFdrjDHN"
   },
   "source": [
    "# autoencoder"
   ]
  },
  {
   "cell_type": "code",
   "execution_count": 1,
   "metadata": {
    "colab": {
     "base_uri": "https://localhost:8080/",
     "height": 80
    },
    "colab_type": "code",
    "executionInfo": {
     "elapsed": 2361,
     "status": "ok",
     "timestamp": 1573536604435,
     "user": {
      "displayName": "Rubu Kuma",
      "photoUrl": "",
      "userId": "02985854947085672136"
     },
     "user_tz": -540
    },
    "id": "0rAP2thNXqBW",
    "outputId": "e461d564-1bfb-47be-feb2-4dd8c1982e98"
   },
   "outputs": [],
   "source": [
    "import keras\n",
    "from keras.layers import BatchNormalization, Activation, Input\n",
    "from keras.layers import Reshape, UpSampling2D, Conv2D\n",
    "from keras.models import Model\n",
    "from keras.datasets import cifar10\n",
    "from keras.optimizers import Adam\n",
    "\n",
    "import numpy as np\n",
    "import matplotlib.pyplot as plt\n",
    "#from keras.initializers import he_normal\n",
    "\n",
    "def build_encoder(x):\n",
    "    input_ = Input(x.shape[1:])\n",
    "\n",
    "    c = Conv2D(32, (3, 3), padding=\"same\", strides=2)(input_)\n",
    "    c = BatchNormalization()(c)\n",
    "    c = Activation(\"relu\")(c)\n",
    "    c = Conv2D(64, (3, 3), padding=\"same\", strides=2)(c)\n",
    "    c = BatchNormalization()(c)\n",
    "    c = Activation(\"relu\")(c)\n",
    "    c = Conv2D(128, (3, 3), padding=\"same\", strides=2)(c)\n",
    "    c = BatchNormalization()(c)\n",
    "    c = Activation(\"relu\")(c)\n",
    "    c = Conv2D(256, (3, 3), padding=\"same\", strides=2)(c)\n",
    "    c = BatchNormalization()(c)\n",
    "    c = Activation(\"relu\")(c)\n",
    "    c = Conv2D(512, (3, 3), padding=\"same\", strides=2)(c)\n",
    "    c = BatchNormalization()(c)\n",
    "    c = Activation(\"relu\")(c)\n",
    "\n",
    "    return Model(inputs=input_, outputs=c)\n",
    "\n",
    "def build_decoder(x):\n",
    "    input_ = Input([int(x.shape[1]/16), int(x.shape[2]/16), 512])\n",
    "    # input_ = Input([1, 1, 512])\n",
    "    c = Conv2D(512, (3, 3), padding=\"same\")(input_)\n",
    "    c = BatchNormalization()(c)\n",
    "    c = Activation(\"relu\")(c)\n",
    "    c = UpSampling2D((2,2))(c)#4*4\n",
    "    c = Conv2D(256, (3, 3), padding=\"same\")(c)\n",
    "    c = BatchNormalization()(c)\n",
    "    c = Activation(\"relu\")(c)\n",
    "    c = UpSampling2D((2,2))(c)#8*8\n",
    "    c = Conv2D(128, (3, 3), padding=\"same\")(c)\n",
    "    c = BatchNormalization()(c)\n",
    "    c = Activation(\"relu\")(c)\n",
    "    c = UpSampling2D((2,2))(c)#16*16\n",
    "    c = Conv2D(64, (3, 3), padding=\"same\")(c)\n",
    "    c = BatchNormalization()(c)\n",
    "    c = Activation(\"relu\")(c)\n",
    "    c = UpSampling2D((2,2))(c)#32*32\n",
    "    c = Conv2D(32, (3, 3), padding=\"same\")(c)\n",
    "    c = BatchNormalization()(c)\n",
    "    c = Activation(\"relu\")(c)\n",
    "    c = UpSampling2D((2,2))(c)#32*32\n",
    "\n",
    "    c = Conv2D(3, (1, 1), padding=\"same\")(c)\n",
    "    c = BatchNormalization()(c)\n",
    "    c = Activation(\"sigmoid\")(c)\n",
    "\n",
    "    return Model(inputs=input_, outputs=c)\n",
    "\n",
    "def cifar():\n",
    "    # dataset\n",
    "    (x_train, y_train), (x_test, y_test) = cifar10.load_data()\n",
    "\n",
    "    x_train = x_train.astype('float32') / 255\n",
    "    x_test = x_test.astype('float32') / 255\n",
    "\n",
    "    return x_train, x_test, y_train, y_test\n",
    "\n",
    "def train_autoencoder(x, epoch):\n",
    "    encoder = build_encoder(x)\n",
    "    decoder = build_decoder(x)\n",
    "    input_ = Input(x.shape[1:])\n",
    "    ae = Model(inputs = input_, outputs = decoder(encoder(input_)))\n",
    "\n",
    "    ae.compile(loss='mse',\n",
    "              optimizer=Adam())\n",
    "\n",
    "    hist = ae.fit(x,\n",
    "                  x,\n",
    "                  batch_size=128,\n",
    "                  epochs=epoch,\n",
    "                  verbose = False)\n",
    "    \n",
    "    return ae, encoder"
   ]
  },
  {
   "cell_type": "code",
   "execution_count": 2,
   "metadata": {
    "colab": {
     "base_uri": "https://localhost:8080/",
     "height": 51
    },
    "colab_type": "code",
    "executionInfo": {
     "elapsed": 11026,
     "status": "ok",
     "timestamp": 1573536613123,
     "user": {
      "displayName": "Rubu Kuma",
      "photoUrl": "",
      "userId": "02985854947085672136"
     },
     "user_tz": -540
    },
    "id": "-1jPjhQbl2wW",
    "outputId": "e4bf82f3-f27a-4f06-9ba7-f5a151c74526"
   },
   "outputs": [],
   "source": [
    "x_train, x_test, y_train, y_test = cifar()\n",
    "#model, encoder = train_autoencoder(x_train)"
   ]
  },
  {
   "cell_type": "markdown",
   "metadata": {
    "colab_type": "text",
    "id": "-QDOLEQpjZMe"
   },
   "source": [
    "#CSG"
   ]
  },
  {
   "cell_type": "code",
   "execution_count": 3,
   "metadata": {
    "colab": {},
    "colab_type": "code",
    "id": "uCvvgLjJdxjB"
   },
   "outputs": [],
   "source": [
    "from sklearn.manifold import TSNE\n",
    "from sklearn.neighbors import KNeighborsClassifier\n",
    "from keras.utils.np_utils import to_categorical\n",
    "import seaborn as sns\n",
    "\n",
    "def t_sne(x, label, encoder, fig=True):\n",
    "    embed = encoder.predict(x)\n",
    "    test_s = embed.reshape((len(embed),-1))\n",
    "\n",
    "    X_reduced = TSNE(n_components=2).fit_transform(test_s)\n",
    "\n",
    "    if fig == True:\n",
    "        plt.figure(figsize=(12,10))\n",
    "        plt.scatter(X_reduced[:, 0], X_reduced[:, 1],c=label.reshape(-1), cmap=\"jet\")\n",
    "        plt.colorbar()\n",
    "        plt.show()\n",
    "\n",
    "    return X_reduced\n",
    "    \n",
    "def random_choise(x, label, M=100, k=10):\n",
    "    result_x, result_y = [], []\n",
    "\n",
    "    for i in range(k):\n",
    "        result = []\n",
    "        for j in range(len(label)):\n",
    "            if label[j] == i:\n",
    "                result.append(j)\n",
    "        \n",
    "        number = np.random.choice(np.arange(0, len(result)), M, replace=False)\n",
    "        for o in number:\n",
    "                result_x.append(x[result[o]])\n",
    "                result_y.append(i)\n",
    "    return np.array(result_x), np.array(result_y)\n",
    "                                        \n",
    "def p_cj(xi, xj, M=100, V=1):\n",
    "    neigh = KNeighborsClassifier(n_neighbors=3)\n",
    "    X = np.vstack((xi,xj))\n",
    "    y = np.zeros(len(xi)+len(xj))\n",
    "    y[len(xi):] = 1\n",
    "    neigh.fit(X, y) \n",
    "    return M*np.mean(neigh.predict_proba(xj)[:,0])/(M*V)\n",
    "\n",
    "def make_S(embed, label, k=10):\n",
    "    S=np.eye(k)\n",
    "\n",
    "    for i in range(k):\n",
    "        for j in range(k):\n",
    "            if i == j:\n",
    "                pass\n",
    "            else:\n",
    "                class_i, class_j = [], []\n",
    "                for o in range(len(label)):\n",
    "                    if label[o] == i:\n",
    "                        class_i.append(embed[o])\n",
    "                    elif label[o] == j:\n",
    "                        class_j.append(embed[o])\n",
    "                S[i,j] = p_cj(class_i, class_j)\n",
    "\n",
    "    return S\n",
    "\n",
    "def w_ij(S, k=10):\n",
    "    W = np.eye(k)\n",
    "    #上三角だけ計算\n",
    "    for i in range(k-1):\n",
    "        for j in range(i, k):\n",
    "            W[i,j] = 1 - np.sum(np.abs(S[i,:]-S[j,:])) / np.sum(np.abs(S[i,:]+S[j,:]))\n",
    "\n",
    "    #下三角はコピー\n",
    "    for i in range(1,k):\n",
    "        for j in range(0,i+1):\n",
    "            W[i,j] = np.copy(W[j,i])\n",
    "\n",
    "    return W\n",
    "\n",
    "def csg(W, k=10):\n",
    "    # D\n",
    "    sum_W = np.sum(W, axis=0)\n",
    "    D = np.zeros((k,k))\n",
    "    for i in range(k):\n",
    "        D[i,i] = sum_W[i]\n",
    "\n",
    "    # csg\n",
    "    L = D-W\n",
    "    eig = np.linalg.eig(L)[0]\n",
    "    eig = np.sort(eig)\n",
    "\n",
    "    eig_norm=[]\n",
    "    for i in range(k-1):\n",
    "        eig_norm.append((eig[i+1]-eig[i])/(k-i))\n",
    "\n",
    "    # cummax\n",
    "    result_csg = []\n",
    "    for i in range(len(eig_norm)):\n",
    "        result_csg.append(np.max(eig_norm[:i+1]))\n",
    "\n",
    "    return np.sum(result_csg)"
   ]
  },
  {
   "cell_type": "markdown",
   "metadata": {
    "colab_type": "text",
    "id": "qac-91hfj-Bj"
   },
   "source": [
    "# MDS"
   ]
  },
  {
   "cell_type": "code",
   "execution_count": 4,
   "metadata": {
    "colab": {},
    "colab_type": "code",
    "id": "3Zs5PKCrvN7L"
   },
   "outputs": [],
   "source": [
    "from sklearn import manifold\n",
    "from matplotlib.collections import LineCollection\n",
    "\n",
    "#cifar10のラベル\n",
    "mds_label = ['airplane',\n",
    "             'automobile',\n",
    "             'bird',\n",
    "             'cat',\n",
    "             'deer',\n",
    "             'dog',\n",
    "             'frog',\n",
    "             'horse',\n",
    "             'ship',\n",
    "             'truck']\n",
    "\n",
    "def MDS(W):\n",
    "    #mds\n",
    "    mds = manifold.MDS(n_components=2, max_iter=3000, eps=1e-9,\n",
    "                       dissimilarity=\"precomputed\", n_jobs=1)\n",
    "    pos = mds.fit(1-W).embedding_\n",
    "\n",
    "    plt.figure(figsize=(5,5))\n",
    "    ax = plt.axes([0., 0., 1., 1.])\n",
    "\n",
    "    for (xx, yy), l in zip(pos, mds_label):\n",
    "        plt.text(xx, yy, l, fontsize=20)\n",
    "\n",
    "    segments = [[pos[i, :], pos[j, :]]\n",
    "                for i in range(len(pos)) for j in range(len(pos))]\n",
    "    lc = LineCollection(segments,\n",
    "                        zorder=0, cmap=plt.cm.Blues,\n",
    "                        norm=plt.Normalize(0, 0.5))\n",
    "    lc.set_linewidths(np.full(len(segments), 0.5))\n",
    "    ax.add_collection(lc)\n",
    "    plt.scatter(pos[:, 0], pos[:, 1], color='turquoise', lw=0, label='MDS')\n",
    "    plt.axis(\"off\")\n",
    "    plt.show()"
   ]
  },
  {
   "cell_type": "markdown",
   "metadata": {
    "colab_type": "text",
    "id": "aANeVORFdKTm"
   },
   "source": [
    "# evaluate"
   ]
  },
  {
   "cell_type": "code",
   "execution_count": null,
   "metadata": {
    "colab": {
     "base_uri": "https://localhost:8080/",
     "height": 1000
    },
    "colab_type": "code",
    "executionInfo": {
     "elapsed": 9061532,
     "status": "ok",
     "timestamp": 1571278886400,
     "user": {
      "displayName": "Rubu Kuma",
      "photoUrl": "",
      "userId": "02985854947085672136"
     },
     "user_tz": -540
    },
    "id": "oxbf8WpY-spD",
    "outputId": "0a667e79-f99c-4c4e-8f0e-085c178d9abe"
   },
   "outputs": [],
   "source": [
    "for size in [500, 1500, 2500, 3500, 4500, 5000]:\n",
    "    result_W = np.zeros((10,10))\n",
    "    x_train_small, y_train_small = random_choise(x_train, y_train, M=size)\n",
    "    CSG = []\n",
    "    model, encoder = train_autoencoder(x_train_small, int(50*5000/size))\n",
    "    for k in range(5):\n",
    "        X_test, Y_test = random_choise(x_test, y_test)\n",
    "        #print(np.sum(to_categorical(Y_test), axis=0))\n",
    "\n",
    "        for i in range(5):\n",
    "            X_tsne = t_sne(X_test, Y_test, encoder, fig=False)\n",
    "            S = make_S(X_tsne, Y_test)\n",
    "            W = w_ij(S)\n",
    "            CSG.append(csg(W))\n",
    "            result_W += W\n",
    "    print(\"data size=\", size, \": csg=\",np.mean(CSG))\n",
    "\n",
    "    # MDS\n",
    "    if size == 5000:\n",
    "        result_W /= 25\n",
    "        plt.figure(figsize=(7,7))\n",
    "        sns.heatmap(result_W, annot=True, xticklabels=mds_label, yticklabels=mds_label, vmin=0.6, vmax=1)\n",
    "        plt.show()\n",
    "\n",
    "        MDS(result_W)"
   ]
  },
  {
   "cell_type": "code",
   "execution_count": null,
   "metadata": {},
   "outputs": [],
   "source": []
  },
  {
   "cell_type": "code",
   "execution_count": null,
   "metadata": {},
   "outputs": [],
   "source": []
  }
 ],
 "metadata": {
  "accelerator": "GPU",
  "colab": {
   "collapsed_sections": [
    "jqRuXlwojUtH",
    "-RDsw9-dFi7Q"
   ],
   "name": "github.ipynb",
   "provenance": [],
   "toc_visible": true
  },
  "kernelspec": {
   "display_name": "Python 3",
   "language": "python",
   "name": "python3"
  },
  "language_info": {
   "codemirror_mode": {
    "name": "ipython",
    "version": 3
   },
   "file_extension": ".py",
   "mimetype": "text/x-python",
   "name": "python",
   "nbconvert_exporter": "python",
   "pygments_lexer": "ipython3",
   "version": "3.8.5"
  }
 },
 "nbformat": 4,
 "nbformat_minor": 1
}
